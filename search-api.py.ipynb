{
 "cells": [
  {
   "cell_type": "code",
   "execution_count": 1,
   "metadata": {},
   "outputs": [],
   "source": [
    "from twython import Twython\n",
    "import json\n",
    "import pandas as pd\n",
    "from collections import Counter\n",
    "import itertools\n",
    "import re"
   ]
  },
  {
   "cell_type": "code",
   "execution_count": 2,
   "metadata": {},
   "outputs": [],
   "source": [
    "# load credentials\n",
    "with open('twitter_credentials.json','r') as file:\n",
    "    creds = json.load(file)"
   ]
  },
  {
   "cell_type": "code",
   "execution_count": 92,
   "metadata": {},
   "outputs": [],
   "source": [
    "# this will create the main object where methods will be called from\n",
    "first_tweets = Twython(creds['CONSUMER_KEY'], creds['CONSUMER_SECRET'])\n",
    "\n",
    "# query\n",
    "query = {\n",
    "    'q':'Trump, 2020',\n",
    "    'result_type':'popular',\n",
    "    'count':1000,\n",
    "    'lang':'en'\n",
    "}"
   ]
  },
  {
   "cell_type": "code",
   "execution_count": 93,
   "metadata": {},
   "outputs": [],
   "source": [
    "# using the first_tweets object and query, create a dict and view it as a df\n",
    "\n",
    "new_dict = {'user': [], 'date_orig': [], 'text': [], 'favorite_count': []}\n",
    "# need to ensure tweet_mode='extended' more than 140 char are returned. \n",
    "# does not include RT, which is fine for now, later an option to include RT can be included\n",
    "for status in first_tweets.search(**query,tweet_mode='extended')['statuses']:\n",
    "    new_dict['user'].append(status['user']['screen_name'])\n",
    "    new_dict['date_orig'].append(status['created_at'])\n",
    "    new_dict['text'].append(status['full_text'])\n",
    "    new_dict['favorite_count'].append(status['favorite_count'])\n",
    "\n"
   ]
  },
  {
   "cell_type": "code",
   "execution_count": 96,
   "metadata": {
    "scrolled": true
   },
   "outputs": [],
   "source": [
    "# create df and clean-up dates\n",
    "df = pd.DataFrame(new_dict)\n",
    "\n",
    "# remove 'RT' tweets b/c they are only 140 char\n",
    "df = df[~df[\"text\"].str.contains('RT')]\n",
    "\n",
    "# clean up text col\n",
    "unwanted_values = ['\\n', '&amp;', 'https', 'the', 'a', 't', 's', 'co']\n",
    "for i in unwanted_values:\n",
    "    df[\"text\"] = df[\"text\"].str.replace(i,'')\n",
    "\n",
    "# clean up date col\n",
    "df[\"date_orig\"] = pd.to_datetime(df.date_orig)\n",
    "df[\"date\"] = df.date_orig.dt.strftime('%Y-%m-%d')\n",
    "\n",
    "# find all instances of unique strings in text col\n",
    "lst = df[\"text\"].tolist()\n",
    "all_words_lst = [re.findall('\\w+',x) for x in lst]\n",
    "# make a flat list, a dictionary with the counter, and a df\n",
    "flat_lst = list(itertools.chain.from_iterable(all_words_lst))\n",
    "\n",
    "counter_dict = dict(Counter(flat_lst),index=[0])\n",
    "\n",
    "df_counter = pd.DataFrame(counter_dict)\n",
    "df_counter = df_counter.T\n",
    "df_counter = df_counter.reset_index()\n",
    "df_counter.columns = [\"word\",\"occurences\"]\n",
    "final_df = df_counter.sort_values(by=\"occurences\",ascending=False).head(25)\n",
    "\n",
    "\n"
   ]
  },
  {
   "cell_type": "code",
   "execution_count": 40,
   "metadata": {},
   "outputs": [],
   "source": [
    "import seaborn as sns\n",
    "import matplotlib.pyplot as plt"
   ]
  },
  {
   "cell_type": "code",
   "execution_count": 98,
   "metadata": {},
   "outputs": [
    {
     "data": {
      "text/plain": [
       "<matplotlib.axes._subplots.AxesSubplot at 0x7fb1942de350>"
      ]
     },
     "execution_count": 98,
     "metadata": {},
     "output_type": "execute_result"
    },
    {
     "data": {
      "image/png": "[encoded data removed]",
      "text/plain": [
       "<Figure size 432x1080 with 1 Axes>"
      ]
     },
     "metadata": {
      "needs_background": "light"
     },
     "output_type": "display_data"
    }
   ],
   "source": [
    "# size of plot\n",
    "f, ax = plt.subplots(figsize=(6, 15))\n",
    "\n",
    "# plot color\n",
    "sns.set_color_codes(\"pastel\")\n",
    "sns.barplot(x=\"occurences\", y=\"word\", data=final_df,\n",
    "            label=\"Total\", color=\"b\")"
   ]
  }
 ],
 "metadata": {
  "kernelspec": {
   "display_name": "Python 3",
   "language": "python",
   "name": "python3"
  },
  "language_info": {
   "codemirror_mode": {
    "name": "ipython",
    "version": 3
   },
   "file_extension": ".py",
   "mimetype": "text/x-python",
   "name": "python",
   "nbconvert_exporter": "python",
   "pygments_lexer": "ipython3",
   "version": "3.7.5"
  }
 },
 "nbformat": 4,
 "nbformat_minor": 2
}
